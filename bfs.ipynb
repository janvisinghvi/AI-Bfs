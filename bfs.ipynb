{
  "nbformat": 4,
  "nbformat_minor": 0,
  "metadata": {
    "colab": {
      "name": "Untitled3.ipynb",
      "version": "0.3.2",
      "provenance": [],
      "include_colab_link": true
    },
    "kernelspec": {
      "name": "python3",
      "display_name": "Python 3"
    }
  },
  "cells": [
    {
      "cell_type": "markdown",
      "metadata": {
        "id": "view-in-github",
        "colab_type": "text"
      },
      "source": [
        "<a href=\"https://colab.research.google.com/github/janvisinghvi/AI-Bfs/blob/master/bfs.ipynb\" target=\"_parent\"><img src=\"https://colab.research.google.com/assets/colab-badge.svg\" alt=\"Open In Colab\"/></a>"
      ]
    },
    {
      "cell_type": "code",
      "metadata": {
        "id": "Xs1jqJQE0txy",
        "colab_type": "code",
        "colab": {
          "base_uri": "https://localhost:8080/",
          "height": 68
        },
        "outputId": "ee883235-6a85-4c35-f5b7-3963618741a2"
      },
      "source": [
        "#Implement BFS\n",
        "visited=[]\n",
        "import collections\n",
        "def bfs(graph,root):\n",
        "    visited,queue=set(),collections.deque([root])\n",
        "    visited.add(root)\n",
        "    while queue:\n",
        "        vertex=queue.popleft()\n",
        "        for neighbour in graph[vertex]:\n",
        "            if neighbour not in visited:\n",
        "                visited.add(neighbour)\n",
        "                print(visited)\n",
        "                queue.append(neighbour)\n",
        "if __name__=='__main__':\n",
        "    graph={0:[1,2],1:[2],2:[3],3:[1,2]}\n",
        "    bfs(graph,0)\n"
      ],
      "execution_count": 1,
      "outputs": [
        {
          "output_type": "stream",
          "text": [
            "{0, 1}\n",
            "{0, 1, 2}\n",
            "{0, 1, 2, 3}\n"
          ],
          "name": "stdout"
        }
      ]
    }
  ]
}